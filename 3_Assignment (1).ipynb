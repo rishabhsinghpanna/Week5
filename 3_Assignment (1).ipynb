{
 "cells": [
  {
   "cell_type": "markdown",
   "id": "de3d3032-f06f-4102-ac74-22b972ca8158",
   "metadata": {},
   "source": [
    "Q1. What is multithreading in python? Why is it used? Name the module used to handle threads in python"
   ]
  },
  {
   "cell_type": "markdown",
   "id": "45134c90-21a4-490d-b85f-956a3186db9d",
   "metadata": {},
   "source": [
    "Multithreading in Python refers to the ability of a program to execute multiple threads concurrently. A thread is a separate flow of execution within a program. By introducing multiple threads, a program can perform multiple tasks simultaneously, improving efficiency and responsiveness."
   ]
  },
  {
   "cell_type": "markdown",
   "id": "f7a741fb-c7b2-4b14-ad28-bf17cdc133f4",
   "metadata": {},
   "source": [
    "Multithreading is used to achieve concurrent execution, allowing different parts of a program to run simultaneously. It is particularly useful in scenarios where certain tasks can be executed independently, such as handling multiple I/O operations or performing calculations in parallel. By utilizing multiple threads, you can potentially improve the performance and responsiveness of your application, as threads can execute concurrently and make use of available system resources."
   ]
  },
  {
   "cell_type": "markdown",
   "id": "f2ac3c03-a7b7-4e89-bcdb-0019bb53bc9b",
   "metadata": {},
   "source": [
    "Python provides a built-in module called threading to handle threads. The threading module allows you to create, manage, and synchronize threads in Python. It provides a high-level interface for working with threads, simplifying the process of creating and controlling multiple threads in a program."
   ]
  },
  {
   "cell_type": "code",
   "execution_count": 1,
   "id": "002b8c9c-af93-4a83-b73a-99dfc0d0c1e9",
   "metadata": {},
   "outputs": [
    {
     "name": "stdout",
     "output_type": "stream",
     "text": [
      "Thread 1: 1\n",
      "Thread 1: 2\n",
      "Thread 1: 3\n",
      "Thread 1: 4\n",
      "Thread 1: 5\n",
      "Thread 2: A\n",
      "Thread 2: B\n",
      "Thread 2: C\n",
      "Thread 2: D\n",
      "Thread 2: E\n",
      "Done.\n"
     ]
    }
   ],
   "source": [
    "## Example:\n",
    "\n",
    "import threading\n",
    "\n",
    "def print_numbers():\n",
    "    for i in range(1, 6):\n",
    "        print(f\"Thread 1: {i}\")\n",
    "\n",
    "def print_letters():\n",
    "    for letter in \"ABCDE\":\n",
    "        print(f\"Thread 2: {letter}\")\n",
    "\n",
    "# Create two thread objects\n",
    "thread1 = threading.Thread(target=print_numbers)\n",
    "thread2 = threading.Thread(target=print_letters)\n",
    "\n",
    "# Start the threads\n",
    "thread1.start()\n",
    "thread2.start()\n",
    "\n",
    "# Wait for threads to complete\n",
    "thread1.join()\n",
    "thread2.join()\n",
    "\n",
    "print(\"Done.\")\n"
   ]
  },
  {
   "cell_type": "code",
   "execution_count": null,
   "id": "bf770b0b-e285-4b49-b7ad-d7e60b7310ff",
   "metadata": {},
   "outputs": [],
   "source": []
  },
  {
   "cell_type": "code",
   "execution_count": null,
   "id": "a339f986-9c82-4c07-934e-3ea3d3774dbf",
   "metadata": {},
   "outputs": [],
   "source": []
  },
  {
   "cell_type": "markdown",
   "id": "e272a1c8-6573-4e2c-8421-f5c133836d79",
   "metadata": {},
   "source": [
    "Q2. Why threading module used? Write the use of the following functionsm :\n",
    "1.activeCount()\n",
    "2.currentThread()\n",
    "3.enumerate()"
   ]
  },
  {
   "cell_type": "markdown",
   "id": "5cee2787-c3d8-420f-be06-f7fac5c0b0dc",
   "metadata": {},
   "source": [
    "The threading module in Python is used to create and manage threads, which are lightweight execution units within a program. Threads allow concurrent execution of multiple tasks, enabling programs to utilize resources efficiently and perform tasks in parallel."
   ]
  },
  {
   "cell_type": "markdown",
   "id": "9870ca2c-c864-431c-ae08-a0ff48942786",
   "metadata": {},
   "source": [
    "activeCount():\n",
    "The activeCount() function returns the number of Thread objects currently alive and managed by the threading module. It is used to determine the number of active threads in a program. This information can be useful for monitoring and debugging purposes, ensuring that the expected number of threads are running or for managing thread pools."
   ]
  },
  {
   "cell_type": "code",
   "execution_count": 2,
   "id": "a078dcf0-d507-44d3-a3c7-18b61803a9df",
   "metadata": {},
   "outputs": [
    {
     "name": "stdout",
     "output_type": "stream",
     "text": [
      "Thread started!\n",
      "Thread started!\n",
      "Thread started!\n",
      "Thread started!\n",
      "Thread started!\n",
      "Number of active threads: 8\n"
     ]
    },
    {
     "name": "stderr",
     "output_type": "stream",
     "text": [
      "/tmp/ipykernel_70/1861083729.py:18: DeprecationWarning: activeCount() is deprecated, use active_count() instead\n",
      "  active_threads = threading.activeCount()\n"
     ]
    }
   ],
   "source": [
    "## Example  of activeCount():\n",
    "import threading\n",
    "\n",
    "def my_function():\n",
    "    print(\"Thread started!\")\n",
    "\n",
    "threads = []\n",
    "for _ in range(5):\n",
    "    t = threading.Thread(target=my_function)\n",
    "    t.start()\n",
    "    threads.append(t)\n",
    "\n",
    "# Wait for all threads to finish\n",
    "for t in threads:\n",
    "    t.join()\n",
    "\n",
    "# Get the number of active threads\n",
    "active_threads = threading.activeCount()\n",
    "print(\"Number of active threads:\", active_threads)\n"
   ]
  },
  {
   "cell_type": "markdown",
   "id": "700d7202-9a50-4fbc-a95b-def26813243e",
   "metadata": {},
   "source": [
    "currentThread():\n",
    "The currentThread() function returns the Thread object corresponding to the caller's thread. It allows you to obtain a reference to the current thread that is executing the code. This function is particularly useful in multi-threaded programs where different threads may need to access their own Thread object or obtain information about the currently executing thread."
   ]
  },
  {
   "cell_type": "code",
   "execution_count": 3,
   "id": "6ef1e939-94bd-4b8a-919f-2b15c476d284",
   "metadata": {},
   "outputs": [
    {
     "name": "stdout",
     "output_type": "stream",
     "text": [
      "Current thread name: Thread-12 (my_function)\n"
     ]
    },
    {
     "name": "stderr",
     "output_type": "stream",
     "text": [
      "/tmp/ipykernel_70/3452119804.py:5: DeprecationWarning: currentThread() is deprecated, use current_thread() instead\n",
      "  current_thread = threading.currentThread()\n",
      "/tmp/ipykernel_70/3452119804.py:6: DeprecationWarning: getName() is deprecated, get the name attribute instead\n",
      "  thread_name = current_thread.getName()\n"
     ]
    }
   ],
   "source": [
    "## Example of currentThread() :\n",
    "import threading\n",
    "\n",
    "def my_function():\n",
    "    current_thread = threading.currentThread()\n",
    "    thread_name = current_thread.getName()\n",
    "    print(\"Current thread name:\", thread_name)\n",
    "\n",
    "t = threading.Thread(target=my_function)\n",
    "t.start()\n",
    "t.join()"
   ]
  },
  {
   "cell_type": "markdown",
   "id": "c0f084e1-3ef0-4e74-b4da-80876a98103c",
   "metadata": {},
   "source": [
    "enumerate():\n",
    "The enumerate() function returns a list of all Thread objects currently alive and managed by the threading module. It provides a way to iterate over all active threads and perform operations or retrieve information about them. This function is often used for monitoring and managing threads, such as checking their status, joining them, or terminating them if necessary. The returned list can be used to gather information about each thread, such as its name, identification number, or other attributes."
   ]
  },
  {
   "cell_type": "code",
   "execution_count": 4,
   "id": "fbd83521-d13f-4958-9527-7ba6a468b470",
   "metadata": {},
   "outputs": [
    {
     "name": "stdout",
     "output_type": "stream",
     "text": [
      "Thread started!\n",
      "Thread started!\n",
      "Thread started!\n",
      "Thread name: MainThread\n",
      "Thread name: IOPub\n",
      "Thread name: Heartbeat\n",
      "Thread name: Thread-3 (_watch_pipe_fd)\n",
      "Thread name: Thread-4 (_watch_pipe_fd)\n",
      "Thread name: Control\n",
      "Thread name: IPythonHistorySavingThread\n",
      "Thread name: Thread-2\n"
     ]
    },
    {
     "name": "stderr",
     "output_type": "stream",
     "text": [
      "/tmp/ipykernel_70/869104438.py:19: DeprecationWarning: getName() is deprecated, get the name attribute instead\n",
      "  print(\"Thread name:\", thread.getName())\n"
     ]
    }
   ],
   "source": [
    "## Example of enumerate() :\n",
    "import threading\n",
    "\n",
    "def my_function():\n",
    "    print(\"Thread started!\")\n",
    "\n",
    "threads = []\n",
    "for _ in range(3):\n",
    "    t = threading.Thread(target=my_function)\n",
    "    t.start()\n",
    "    threads.append(t)\n",
    "\n",
    "# Wait for all threads to finish\n",
    "for t in threads:\n",
    "    t.join()\n",
    "\n",
    "# Enumerate all active threads\n",
    "for thread in threading.enumerate():\n",
    "    print(\"Thread name:\", thread.getName())\n"
   ]
  },
  {
   "cell_type": "code",
   "execution_count": null,
   "id": "45fc6e8a-1f14-4b7b-ad67-25efe61afea5",
   "metadata": {},
   "outputs": [],
   "source": []
  },
  {
   "cell_type": "code",
   "execution_count": null,
   "id": "418af529-568f-463b-b044-4456d55203be",
   "metadata": {},
   "outputs": [],
   "source": []
  },
  {
   "cell_type": "markdown",
   "id": "6e6e32b4-48cd-4655-bf4e-e7e12ad2fbc0",
   "metadata": {},
   "source": [
    "Q3. Explain the following functions\n",
    "1.run()\n",
    "2.start()\n",
    "3.join()\n",
    "4.isAlive()"
   ]
  },
  {
   "cell_type": "markdown",
   "id": "10ea6274-3e81-4b73-b3b3-c00f292c945a",
   "metadata": {},
   "source": [
    "1.run() : The run() function is a method defined within a class that represents the code to be executed when the class instance is running. It contains the main logic or functionality of the class. It is typically overridden in a subclass to define custom behavior. The run() method is not meant to be called directly but is invoked indirectly by other methods like start() or join()."
   ]
  },
  {
   "cell_type": "code",
   "execution_count": 1,
   "id": "a23b263d-337b-4118-82c0-d3e90f21c630",
   "metadata": {},
   "outputs": [
    {
     "name": "stdout",
     "output_type": "stream",
     "text": [
      "Hello from thread\n",
      "Hello from thread\n",
      "Hello from thread\n",
      "Hello from thread\n",
      "Hello from thread\n"
     ]
    }
   ],
   "source": [
    "## Example for .run() :\n",
    "import threading\n",
    "\n",
    "class MyThread(threading.Thread):\n",
    "    def run(self):\n",
    "        for i in range(5):\n",
    "            print(\"Hello from thread\")\n",
    "\n",
    "# Create an instance of the custom thread class\n",
    "thread = MyThread()\n",
    "\n",
    "# Call the run() method directly\n",
    "thread.run()"
   ]
  },
  {
   "cell_type": "markdown",
   "id": "694ecff3-c588-4ae9-97e9-3ab633cf181c",
   "metadata": {},
   "source": [
    "2. start(): The start() function is used to start a new thread of execution. It initializes the thread and calls its run() method in a separate thread. The start() method sets up the necessary data structures and then invokes the underlying platform-specific implementation to start the thread."
   ]
  },
  {
   "cell_type": "code",
   "execution_count": 2,
   "id": "62984b7b-9df1-48de-a854-4973b3dbb693",
   "metadata": {},
   "outputs": [
    {
     "name": "stdout",
     "output_type": "stream",
     "text": [
      "1\n",
      "2\n",
      "3\n",
      "4\n",
      "5\n"
     ]
    }
   ],
   "source": [
    "## Example for start() :\n",
    "import threading\n",
    "\n",
    "def print_numbers():\n",
    "    for i in range(1, 6):\n",
    "        print(i)\n",
    "\n",
    "# Create a thread and start it\n",
    "thread = threading.Thread(target=print_numbers)\n",
    "thread.start()"
   ]
  },
  {
   "cell_type": "markdown",
   "id": "8eb69876-2bb4-46b6-8762-1fc5b033d037",
   "metadata": {},
   "source": [
    "3. join() :The join() function is used to wait for a thread to complete its execution before proceeding to the next step. It blocks the calling thread until the thread it is called upon completes execution. This is useful when we want to ensure that the main thread waits for all the other threads to finish before terminating the program."
   ]
  },
  {
   "cell_type": "code",
   "execution_count": 3,
   "id": "6380f275-c40a-4c24-8607-303150a25e6d",
   "metadata": {},
   "outputs": [
    {
     "name": "stdout",
     "output_type": "stream",
     "text": [
      "1\n",
      "2\n",
      "3\n",
      "4\n",
      "5\n",
      "Thread execution completed\n"
     ]
    }
   ],
   "source": [
    "## Example for join() :\n",
    "import threading\n",
    "\n",
    "def print_numbers():\n",
    "    for i in range(1, 6):\n",
    "        print(i)\n",
    "\n",
    "# Create a thread and start it\n",
    "thread = threading.Thread(target=print_numbers)\n",
    "thread.start()\n",
    "\n",
    "# Wait for the thread to finish before proceeding\n",
    "thread.join()\n",
    "\n",
    "print(\"Thread execution completed\")\n"
   ]
  },
  {
   "cell_type": "markdown",
   "id": "d828b471-d5ce-46b0-aff0-9576b7f1b0ac",
   "metadata": {},
   "source": [
    "4. isAlive() : The isAlive() function is used to check whether a thread is currently active or running. It returns a Boolean value indicating whether the thread is alive (True) or has completed its execution (False). A thread is considered alive from the moment it is started until it completes its run method."
   ]
  },
  {
   "cell_type": "code",
   "execution_count": null,
   "id": "2741d769-0b05-49d1-aa1e-e81ad69fb3c6",
   "metadata": {},
   "outputs": [],
   "source": []
  },
  {
   "cell_type": "code",
   "execution_count": null,
   "id": "7e0f850f-b3d5-41ed-b86b-349b3dfff978",
   "metadata": {},
   "outputs": [],
   "source": []
  },
  {
   "cell_type": "markdown",
   "id": "defea9f3-b103-48b1-bf7d-d30835e1e70d",
   "metadata": {},
   "source": [
    "Q4. Write a python program to create two threads. Thread one must print the list of squares and thread\n",
    "two must print the list of cubes"
   ]
  },
  {
   "cell_type": "code",
   "execution_count": 5,
   "id": "556b356d-a7bc-4974-86ab-7de23b6ec328",
   "metadata": {},
   "outputs": [
    {
     "name": "stdout",
     "output_type": "stream",
     "text": [
      "1\n",
      "4\n",
      "9\n",
      "16\n",
      "25\n",
      "36\n",
      "49\n",
      "64\n",
      "81\n",
      "100\n",
      "1\n",
      "8\n",
      "27\n",
      "64\n",
      "125\n",
      "216\n",
      "343\n",
      "512\n",
      "729\n",
      "1000\n"
     ]
    }
   ],
   "source": [
    "import threading\n",
    "\n",
    "def print_squares():\n",
    "    squares = [num**2 for num in range(1, 11)]\n",
    "    for square in squares:\n",
    "        print(square)\n",
    "\n",
    "def print_cubes():\n",
    "    cubes = [num**3 for num in range(1, 11)]\n",
    "    for cube in cubes:\n",
    "        print(cube)\n",
    "\n",
    "if __name__ == \"__main__\":\n",
    "    # Create the first thread for printing squares\n",
    "    thread1 = threading.Thread(target=print_squares)\n",
    "\n",
    "    # Create the second thread for printing cubes\n",
    "    thread2 = threading.Thread(target=print_cubes)\n",
    "\n",
    "    # Start both threads\n",
    "    thread1.start()\n",
    "    thread2.start()\n",
    "\n",
    "    # Wait for both threads to finish\n",
    "    thread1.join()\n",
    "    thread2.join()\n"
   ]
  },
  {
   "cell_type": "code",
   "execution_count": null,
   "id": "673de57e-1922-4e67-80b2-f1f7a74589fb",
   "metadata": {},
   "outputs": [],
   "source": []
  },
  {
   "cell_type": "code",
   "execution_count": null,
   "id": "f6f72f91-f576-4a3b-97d2-139a08f0af3a",
   "metadata": {},
   "outputs": [],
   "source": []
  },
  {
   "cell_type": "markdown",
   "id": "08dfcbc6-46a5-43f3-8a3b-1780d0c4c333",
   "metadata": {},
   "source": [
    "Q5. State advantages and disadvantages of multithreading."
   ]
  },
  {
   "cell_type": "markdown",
   "id": "b023886d-6a6a-4f9a-830b-6066cf345a4c",
   "metadata": {},
   "source": [
    "Advantages of Multithreading:\n",
    "\n",
    "1. Increased Responsiveness: Multithreading allows an application to remain responsive even while performing lengthy operations. By executing tasks concurrently, the user interface can remain active and responsive, providing a better user experience.\n",
    "\n",
    "2. Improved Performance: Multithreading can lead to improved performance by utilizing available CPU resources more efficiently. When multiple threads are executing simultaneously, it can exploit parallelism and potentially reduce the overall execution time of a program.\n",
    "\n",
    "3. Enhanced Resource Sharing: Threads within a process share the same memory space, allowing them to easily share data and communicate with each other. This enables efficient data sharing and reduces the overhead of inter-process communication mechanisms.\n",
    "\n",
    "4. Simplified Design: Multithreading can simplify the design of complex applications by breaking them into smaller, manageable threads. Each thread can focus on a specific task or component, making the overall architecture easier to understand, develop, and maintain.\n",
    "\n",
    "5. Scalability: Multithreading allows an application to scale and take advantage of multi-core processors. It can allocate threads to different cores, enabling efficient utilization of available hardware resources and potentially achieving better performance on modern systems."
   ]
  },
  {
   "cell_type": "markdown",
   "id": "5ed4e381-f9ce-4e42-a984-358d9e07d2a4",
   "metadata": {},
   "source": [
    "Disadvantages of Multithreading:\n",
    "\n",
    "1. Complexity and Difficulty: Multithreading introduces additional complexity to the design and development of software. Managing shared resources, synchronizing access to critical sections, and handling race conditions can be challenging and error-prone. Debugging multithreaded programs can also be more difficult.\n",
    "\n",
    "2. Increased Resource Consumption: Each thread requires its own stack space, which can consume a significant amount of memory. Additionally, managing and synchronizing threads imposes an overhead on the system, which can impact overall performance.\n",
    "\n",
    "3. Synchronization and Deadlocks: When multiple threads access shared resources concurrently, synchronization is necessary to ensure data consistency and avoid race conditions. However, improper synchronization can lead to deadlocks, where threads wait indefinitely for resources, causing the entire application to freeze.\n",
    "\n",
    "4. Reduced Determinism: Multithreaded programs may exhibit non-deterministic behavior due to factors such as thread scheduling, resource availability, and timing. This can make the program's execution less predictable and harder to reproduce and debug.\n",
    "\n",
    "5. Compatibility and Portability: Multithreading support varies across operating systems and programming languages. Writing portable multithreaded code that works consistently across different platforms can be challenging, especially when dealing with platform-specific thread APIs and synchronization mechanisms."
   ]
  },
  {
   "cell_type": "code",
   "execution_count": null,
   "id": "eae595a0-659f-4a14-b8a2-b2054eaeb8bf",
   "metadata": {},
   "outputs": [],
   "source": []
  },
  {
   "cell_type": "code",
   "execution_count": null,
   "id": "317a4f7f-40fa-4045-99b6-55892c13f82a",
   "metadata": {},
   "outputs": [],
   "source": []
  },
  {
   "cell_type": "markdown",
   "id": "aa85d78b-79ba-4951-91d1-416dde00f931",
   "metadata": {},
   "source": [
    "Q6. Explain deadlocks and race conditions."
   ]
  },
  {
   "cell_type": "markdown",
   "id": "07050091-e94e-47de-b3fc-b37104693cba",
   "metadata": {},
   "source": [
    "Deadlocks and race conditions are two common problems that can occur in concurrent programming, where multiple threads or processes are running concurrently and sharing resources."
   ]
  },
  {
   "cell_type": "markdown",
   "id": "1c632808-a2b8-42b9-9d3e-5f68f92c02e2",
   "metadata": {},
   "source": [
    "1. Deadlocks:\n",
    "A deadlock refers to a situation where two or more processes are unable to proceed because each is waiting for the other to release a resource. In other words, it's a state in which each process holds a resource while waiting for another resource that is currently held by some other process. As a result, the processes remain stuck indefinitely, and none of them can make progress."
   ]
  },
  {
   "cell_type": "markdown",
   "id": "888741bc-c7f0-4e13-9939-708616c43faa",
   "metadata": {},
   "source": [
    "Deadlocks typically occur due to four necessary conditions being present simultaneously:\n",
    "\n",
    "1. Mutual Exclusion: At least one resource must be held exclusively by one process at a time.\n",
    "2. Hold and Wait: A process holding a resource is waiting to acquire additional resources.\n",
    "3. No Preemption: Resources cannot be forcibly taken away from a process.\n",
    "\n",
    "4 .Circular Wait: There exists a circular chain of two or more processes, where each process is waiting for a resource held by the next process in the chain.\n",
    "\n",
    "\n",
    "To prevent deadlocks, various techniques can be used, such as resource allocation strategies, deadlock detection algorithms, and resource scheduling algorithms."
   ]
  },
  {
   "cell_type": "markdown",
   "id": "765a4a38-5313-4a8c-b1a1-af58b34f430f",
   "metadata": {},
   "source": [
    "2. Race Conditions:\n",
    "A race condition occurs when the behavior or outcome of a program depends on the relative timing or interleaving of multiple concurrent operations. It arises when two or more threads/processes access a shared resource concurrently, and the final result depends on the order in which the operations are executed.\n",
    "\n",
    "\n",
    "Race conditions can lead to unpredictable and incorrect behavior of the program. The exact outcome may vary each time the program is run, making it difficult to reproduce and debug the issue. Common examples of race conditions include reading/writing shared variables, updating data structures, or accessing shared files.\n",
    "\n",
    "\n",
    "To mitigate race conditions, synchronization mechanisms like locks, semaphores, and atomic operations can be used to ensure that critical sections of code are executed atomically or in a mutually exclusive manner. By properly synchronizing access to shared resources, race conditions can be avoided, and the program's correctness can be maintained.\n",
    "\n",
    "\n",
    "Both deadlocks and race conditions are undesirable in concurrent programming and can cause programs to behave incorrectly, hang, or crash. Therefore, it's crucial to understand these concepts and apply appropriate synchronization techniques to ensure the proper execution of concurrent programs."
   ]
  },
  {
   "cell_type": "code",
   "execution_count": null,
   "id": "fbd72678-131f-4680-a4ac-a88b27853b98",
   "metadata": {},
   "outputs": [],
   "source": []
  }
 ],
 "metadata": {
  "kernelspec": {
   "display_name": "Python 3 (ipykernel)",
   "language": "python",
   "name": "python3"
  },
  "language_info": {
   "codemirror_mode": {
    "name": "ipython",
    "version": 3
   },
   "file_extension": ".py",
   "mimetype": "text/x-python",
   "name": "python",
   "nbconvert_exporter": "python",
   "pygments_lexer": "ipython3",
   "version": "3.10.8"
  }
 },
 "nbformat": 4,
 "nbformat_minor": 5
}
