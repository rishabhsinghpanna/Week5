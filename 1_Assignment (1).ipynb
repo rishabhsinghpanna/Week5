{
 "cells": [
  {
   "cell_type": "markdown",
   "id": "f5f76189-574d-4dd3-b841-5da4f69d8e1b",
   "metadata": {},
   "source": [
    "Q1. What is an Exception in python ? Write the difference between Exceptions and Syntax errors ."
   ]
  },
  {
   "cell_type": "markdown",
   "id": "28d8305c-18f0-49ad-961b-aa6a6519d2d5",
   "metadata": {},
   "source": [
    "Exceptions are used to handle errors in python . Error can occur during execution of program . Exceptions can occur due to various reasons, such as invalid input, division by zero, accessing an undefined variable, or file I/O errors"
   ]
  },
  {
   "cell_type": "markdown",
   "id": "5f8ccea7-237b-4bb7-a163-f0eb4c0cdc57",
   "metadata": {},
   "source": [
    "Difference between Exceptions and syntax error is \n",
    "In exceptions python can we habdle the error and python code can run but in syntax error It gives error and code will stop executing . Syntax error occur when the code violates the rules of the Python language syntax. These errors are typically detected by the Python interpreter during the parsing phase before the program's execution starts. Syntax errors indicate that the code is not written correctly and needs to be fixed before it can be executed."
   ]
  },
  {
   "cell_type": "code",
   "execution_count": null,
   "id": "6022775d-cf3a-4a24-be0a-6510d0913ca3",
   "metadata": {},
   "outputs": [],
   "source": []
  },
  {
   "cell_type": "code",
   "execution_count": null,
   "id": "2c10d13d-a3f5-4f37-b281-a5c03cb7e973",
   "metadata": {},
   "outputs": [],
   "source": []
  },
  {
   "cell_type": "markdown",
   "id": "52654b8d-1f52-44e5-ad22-c47ccd3d50b4",
   "metadata": {},
   "source": [
    "Q2. What happens when an exception is not handled ? Explain with an example ."
   ]
  },
  {
   "cell_type": "markdown",
   "id": "e72b63a2-2b55-492d-bb4a-635e6e4170fe",
   "metadata": {},
   "source": [
    "In case your code has some error . You will get some kind of error in output and your code will not execute "
   ]
  },
  {
   "cell_type": "code",
   "execution_count": 2,
   "id": "0ce4769d-88b8-4023-a740-e8e10fa336e8",
   "metadata": {},
   "outputs": [
    {
     "ename": "ZeroDivisionError",
     "evalue": "division by zero",
     "output_type": "error",
     "traceback": [
      "\u001b[0;31m---------------------------------------------------------------------------\u001b[0m",
      "\u001b[0;31mZeroDivisionError\u001b[0m                         Traceback (most recent call last)",
      "Cell \u001b[0;32mIn[2], line 3\u001b[0m\n\u001b[1;32m      1\u001b[0m \u001b[38;5;66;03m## Example without exception :\u001b[39;00m\n\u001b[1;32m      2\u001b[0m a \u001b[38;5;241m=\u001b[39m \u001b[38;5;241m10\u001b[39m\n\u001b[0;32m----> 3\u001b[0m \u001b[43ma\u001b[49m\u001b[38;5;241;43m/\u001b[39;49m\u001b[38;5;241;43m0\u001b[39;49m\n",
      "\u001b[0;31mZeroDivisionError\u001b[0m: division by zero"
     ]
    }
   ],
   "source": [
    "## Example without exception :\n",
    "a = 10\n",
    "a/0"
   ]
  },
  {
   "cell_type": "markdown",
   "id": "be90eb26-341e-4a24-85c1-96a1a07f158d",
   "metadata": {},
   "source": [
    "Here we got the error"
   ]
  },
  {
   "cell_type": "code",
   "execution_count": 3,
   "id": "67ef0e47-cf86-411e-a7e5-68233e4118f5",
   "metadata": {},
   "outputs": [
    {
     "name": "stdout",
     "output_type": "stream",
     "text": [
      "division by zero\n"
     ]
    }
   ],
   "source": [
    "## Example with exception :\n",
    "try :\n",
    "    a=10/0\n",
    "except ZeroDivisionError as e:\n",
    "    print(e)\n",
    "    "
   ]
  },
  {
   "cell_type": "code",
   "execution_count": null,
   "id": "96da3e64-f69a-4962-b6cd-88faff3d4b0c",
   "metadata": {},
   "outputs": [],
   "source": []
  },
  {
   "cell_type": "code",
   "execution_count": null,
   "id": "21997555-fe7c-4f1a-9e0d-edd1fd675933",
   "metadata": {},
   "outputs": [],
   "source": []
  },
  {
   "cell_type": "markdown",
   "id": "07ebb6d4-baca-4fd5-8df3-2660a5a9ced1",
   "metadata": {},
   "source": [
    "Q3. Which python statements are used to catch and handle exceptions ? Explain with an example."
   ]
  },
  {
   "cell_type": "markdown",
   "id": "af184ca2-394c-432d-a076-87e1fe1128cc",
   "metadata": {},
   "source": [
    "In Python, the statements used to catch and handle exceptions are `try`, `except`, `else`, and `finally`.\n",
    "\n",
    "try : Try statement is used to enclose the code that may raise an exception. If an exception occurs within the `try` block, it is caught and processed.\n",
    "\n",
    "except : Except statement is used to define a block of code that will be executed if a specific exception is raised within the `try` block. You can specify the type of exception you want to catch or use a general `Exception` class to catch any exception.\n",
    "\n",
    "else : Else statement is optional and is executed if no exceptions are raised in the `try` block.\n",
    "\n",
    "finally :  Finally statement is also optional and is executed regardless of whether an exception occurred or not. It is typically used to clean up resources or perform necessary actions that must be executed under any circumstances.\n"
   ]
  },
  {
   "cell_type": "code",
   "execution_count": 4,
   "id": "6b706d1a-b4ea-48b2-bd82-9f64686a7188",
   "metadata": {},
   "outputs": [
    {
     "name": "stdout",
     "output_type": "stream",
     "text": [
      "Cannot divide by zero.\n",
      "End of the program.\n"
     ]
    }
   ],
   "source": [
    "## Example :\n",
    "try:\n",
    "    a = 10 / 0\n",
    "    print(\"Result:\", result)\n",
    "except ValueError:\n",
    "    print(\"Invalid input. Please enter a valid number.\")\n",
    "except ZeroDivisionError:\n",
    "    print(\"Cannot divide by zero.\")\n",
    "else:\n",
    "    print(\"No exceptions occurred.\")\n",
    "finally:\n",
    "    print(\"End of the program.\")\n"
   ]
  },
  {
   "cell_type": "code",
   "execution_count": null,
   "id": "2a754768-5e70-4a5c-99a4-99b62e5e6466",
   "metadata": {},
   "outputs": [],
   "source": []
  },
  {
   "cell_type": "code",
   "execution_count": null,
   "id": "b8de02aa-2f13-4b70-a779-088047edd097",
   "metadata": {},
   "outputs": [],
   "source": []
  },
  {
   "cell_type": "markdown",
   "id": "fb40932e-0e9f-479e-acf4-e2f1b14857fa",
   "metadata": {},
   "source": [
    "Q4. Explain with an example :"
   ]
  },
  {
   "cell_type": "code",
   "execution_count": 5,
   "id": "7dd6f177-9ac6-418c-a0f1-3256ccd81af6",
   "metadata": {},
   "outputs": [
    {
     "name": "stdout",
     "output_type": "stream",
     "text": [
      "This will execute only if try class execute without error \n"
     ]
    }
   ],
   "source": [
    "## try and else :\n",
    "## if there is no error in try class then only else will execute\n",
    "## Example :\n",
    "try :\n",
    "    10//4\n",
    "except Exception as e :\n",
    "    print(e)\n",
    "    \n",
    "else :\n",
    "    print(\"This will execute only if try class execute without error \")\n",
    "\n"
   ]
  },
  {
   "cell_type": "code",
   "execution_count": 6,
   "id": "54628b78-359d-448b-8350-61a4b7ff3fe2",
   "metadata": {},
   "outputs": [
    {
     "name": "stdout",
     "output_type": "stream",
     "text": [
      "division by zero\n",
      "This will execute at any situation \n"
     ]
    }
   ],
   "source": [
    "## finally :\n",
    "## It will execute itself at any situation\n",
    "## Example :\n",
    "try :\n",
    "    10/0\n",
    "except Exception as e:\n",
    "    print(e)\n",
    "    \n",
    "else :\n",
    "    print(\"This will execute only if try class execute without error \")\n",
    "finally :\n",
    "    print(\"This will execute at any situation \")"
   ]
  },
  {
   "cell_type": "code",
   "execution_count": 7,
   "id": "2f39ae2c-7891-400c-8bac-818830ba9a5e",
   "metadata": {},
   "outputs": [
    {
     "name": "stdout",
     "output_type": "stream",
     "text": [
      "An error occurred: Cannot divide by zero\n"
     ]
    }
   ],
   "source": [
    "## raise : In python it is used to raise the exception\n",
    "## Example :\n",
    "\n",
    "def divide(a, b):\n",
    "    if b == 0:\n",
    "        raise ValueError(\"Cannot divide by zero\")\n",
    "    return a / b\n",
    "\n",
    "try:\n",
    "    result = divide(10, 0)\n",
    "    print(\"Result:\", result)\n",
    "except ValueError as e:\n",
    "    print(\"An error occurred:\", str(e))\n",
    "\n"
   ]
  },
  {
   "cell_type": "code",
   "execution_count": null,
   "id": "2633555f-eeed-4fd1-bf30-dc11e6d5dde7",
   "metadata": {},
   "outputs": [],
   "source": []
  },
  {
   "cell_type": "code",
   "execution_count": null,
   "id": "0251adab-8ab9-41dd-bb02-8be841cd7540",
   "metadata": {},
   "outputs": [],
   "source": []
  },
  {
   "cell_type": "markdown",
   "id": "3ac20a89-6e9e-4f07-a12e-656d74ffb887",
   "metadata": {},
   "source": [
    "Q5. What are Customs Exceptions in python ? Why do we need Custom Exceptions ? Explain with an example ."
   ]
  },
  {
   "cell_type": "markdown",
   "id": "d17b34b2-2970-45f4-b694-b0e529721765",
   "metadata": {},
   "source": [
    "In Python, custom exceptions are user-defined exceptions that allow you to create your own specific exception classes tailored to your application's needs. They are derived from the base Exception class or any of its subclasses. Custom exceptions provide a way to handle exceptional conditions in your code that are specific to your application domain."
   ]
  },
  {
   "cell_type": "code",
   "execution_count": 14,
   "id": "bf75dbb1-bf5e-469b-af8e-ff3fb78baabc",
   "metadata": {},
   "outputs": [],
   "source": [
    "class validMarks(Exception) :\n",
    "    def __init__(self , msg) :\n",
    "        self.msg = msg\n",
    "    "
   ]
  },
  {
   "cell_type": "code",
   "execution_count": 15,
   "id": "b1127560-e1f9-4e46-b4e6-59fb05977c9a",
   "metadata": {},
   "outputs": [],
   "source": [
    "def Marks(mrks) :\n",
    "    if mrks < 0 :\n",
    "        raise validMarks(\"Marks cannot be -ve \" )\n",
    "    elif age > 200 :\n",
    "        raise validMarks(\"Pass \")\n",
    "    else :\n",
    "        print(\"Promoted \")"
   ]
  },
  {
   "cell_type": "code",
   "execution_count": 16,
   "id": "8cf94ce8-c5bf-4702-95e8-66603de629be",
   "metadata": {},
   "outputs": [
    {
     "name": "stdin",
     "output_type": "stream",
     "text": [
      "Enter your marks :  -9\n"
     ]
    },
    {
     "name": "stdout",
     "output_type": "stream",
     "text": [
      "Marks cannot be -ve \n"
     ]
    }
   ],
   "source": [
    "try :\n",
    "    MaRks = int(input(\"Enter your marks : \"))\n",
    "    Marks(MaRks)\n",
    "except validMarks as e:\n",
    "    print(e)"
   ]
  },
  {
   "cell_type": "code",
   "execution_count": null,
   "id": "590641f9-547a-440a-9b6e-f429213a29ca",
   "metadata": {},
   "outputs": [],
   "source": []
  },
  {
   "cell_type": "code",
   "execution_count": null,
   "id": "92ae7d7b-c4ef-43a1-8837-4ccc35a65d8e",
   "metadata": {},
   "outputs": [],
   "source": []
  },
  {
   "cell_type": "markdown",
   "id": "c411c333-877d-4758-be4c-3aea7b2b03e1",
   "metadata": {},
   "source": [
    "Q6. Create a custom exception class . Use this class to handle an exception."
   ]
  },
  {
   "cell_type": "code",
   "execution_count": 28,
   "id": "61bfd004-7949-4ab2-a909-06e36cd84652",
   "metadata": {},
   "outputs": [],
   "source": [
    "class validatePension(Exception):\n",
    "    def __init__(self , pension) :\n",
    "        self.pension = pension\n",
    "    "
   ]
  },
  {
   "cell_type": "code",
   "execution_count": 46,
   "id": "e5943769-75de-47f5-b78f-4708c2ac5305",
   "metadata": {},
   "outputs": [],
   "source": [
    "def Pension(age , amount) :\n",
    "    if age < 0 :\n",
    "        raise validatePension(\" Age cannot be -ve \")\n",
    "    elif age >= 60 &  amount >= 100000:\n",
    "        print(\"Eligible for Pension\")\n",
    "    else :\n",
    "        print(\"Not Elegible\")\n",
    "    \n",
    "        "
   ]
  },
  {
   "cell_type": "code",
   "execution_count": 48,
   "id": "5b83f43b-a466-499d-ac9c-6005b52ad250",
   "metadata": {},
   "outputs": [
    {
     "name": "stdin",
     "output_type": "stream",
     "text": [
      "Enter the age :  -90\n",
      "Enter the amount :  900000\n"
     ]
    },
    {
     "name": "stdout",
     "output_type": "stream",
     "text": [
      " Age cannot be -ve \n"
     ]
    }
   ],
   "source": [
    "try :\n",
    "    age = int(input(\"Enter the age : \"))\n",
    "    amount = int(input(\"Enter the amount : \"))\n",
    "    Pension(age,amount)\n",
    "except validatePension as e:\n",
    "    print(e)\n",
    "                  "
   ]
  },
  {
   "cell_type": "code",
   "execution_count": null,
   "id": "4b1c5cd1-8565-439e-a715-5a4547670422",
   "metadata": {},
   "outputs": [],
   "source": []
  }
 ],
 "metadata": {
  "kernelspec": {
   "display_name": "Python 3 (ipykernel)",
   "language": "python",
   "name": "python3"
  },
  "language_info": {
   "codemirror_mode": {
    "name": "ipython",
    "version": 3
   },
   "file_extension": ".py",
   "mimetype": "text/x-python",
   "name": "python",
   "nbconvert_exporter": "python",
   "pygments_lexer": "ipython3",
   "version": "3.10.8"
  }
 },
 "nbformat": 4,
 "nbformat_minor": 5
}
