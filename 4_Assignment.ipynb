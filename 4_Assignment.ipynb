{
 "cells": [
  {
   "cell_type": "markdown",
   "id": "d93bbe93-a4fc-4d86-a21b-75992764d4b4",
   "metadata": {},
   "source": [
    "Q1. What is multiprocessing in python? Why is it useful?"
   ]
  },
  {
   "cell_type": "markdown",
   "id": "81481409-fc4e-4671-8cce-abaeb57db190",
   "metadata": {},
   "source": [
    "In Python, multiprocessing is a module that allows you to leverage multiple processors or cores of your computer to perform concurrent and parallel execution of tasks. It provides a way to create and manage processes, which are separate instances of the Python interpreter, allowing you to run code in parallel and take advantage of the available computing resources.\n",
    "\n",
    "Multiprocessing is useful in Python for several reasons:\n",
    "\n",
    "1. Improved performance: By utilizing multiple processors or cores, multiprocessing can significantly speed up the execution of CPU-bound tasks. It allows you to distribute the workload across multiple processes, enabling parallel execution and taking full advantage of the available hardware resources.\n",
    "\n",
    "2. Concurrency and responsiveness: Multiprocessing allows you to perform concurrent execution of tasks, making it ideal for handling I/O-bound operations. While one process is waiting for I/O, other processes can continue executing, ensuring better overall responsiveness and efficient utilization of system resources.\n",
    "\n",
    "3. Isolation and fault tolerance:** Each process created by multiprocessing runs in its own memory space, providing isolation. This isolation ensures that if one process crashes or encounters an error, it does not affect the execution of other processes. Faulty processes can be terminated or restarted without affecting the overall system stability.\n",
    "\n",
    "4. Leveraging parallel algorithms:** Certain computational problems, such as data processing, simulations, and mathematical computations, can be inherently parallelizable. Multiprocessing allows you to implement parallel algorithms that divide the problem into smaller subtasks and distribute them across multiple processes for concurrent execution, resulting in faster computations.\n",
    "\n",
    "5. Scalability and utilization of resources:** Multiprocessing enables you to scale your Python applications to utilize the available computing resources more efficiently. By utilizing multiple processors or cores, you can handle larger workloads and process more data in a given timeframe.\n",
    "\n",
    "It's important to note that multiprocessing in Python is different from multithreading, where multiple threads run within the same process and share the same memory space. Multiprocessing is typically used when you need to take advantage of multiple processors or cores for parallel execution, while multithreading is more suitable for I/O-bound tasks and concurrent execution within a single process."
   ]
  },
  {
   "cell_type": "code",
   "execution_count": null,
   "id": "a8e85ccb-f669-4a75-8608-fa04139eb9bc",
   "metadata": {},
   "outputs": [],
   "source": []
  },
  {
   "cell_type": "code",
   "execution_count": null,
   "id": "39fc9f8f-25fe-4eae-af1e-3a5c830eb782",
   "metadata": {},
   "outputs": [],
   "source": []
  },
  {
   "cell_type": "markdown",
   "id": "b86fa2dc-6847-44ee-96af-931248ef78b3",
   "metadata": {},
   "source": [
    "Q2. What are the differences between multiprocessing and multithreading?"
   ]
  },
  {
   "cell_type": "markdown",
   "id": "e5d18d40-14cb-4791-aa6d-4664ba2eb670",
   "metadata": {},
   "source": [
    "Multiprocessing and multithreading are two different approaches to achieving concurrent execution in computer programs. Here are the main differences between multiprocessing and multithreading:\n",
    "\n",
    "1. Conceptual Model:\n",
    "   - Multiprocessing: In multiprocessing, multiple processes are created, each having its own memory space and resources. Each process runs independently and can execute multiple tasks simultaneously.\n",
    "   - Multithreading: In multithreading, multiple threads of execution are created within a single process. Threads share the same memory space and resources of the process and can run concurrently.\n",
    "\n",
    "2. Resource Allocation:\n",
    "   - Multiprocessing: Each process in multiprocessing has its own separate memory space and resources, including CPU time, memory, and I/O devices. Communication between processes usually involves inter-process communication mechanisms such as pipes or message passing.\n",
    "   - Multithreading: Threads within a process share the same memory space and resources. They can access shared data directly, which simplifies communication and data sharing between threads. However, careful synchronization mechanisms need to be employed to avoid data races and ensure thread safety.\n",
    "\n",
    "3. Scalability:\n",
    "   - Multiprocessing: Since processes have their own memory space, they are well-suited for executing CPU-intensive tasks on multi-core or multi-processor systems. Each process can be allocated to a separate CPU core, enabling true parallelism.\n",
    "   - Multithreading: Threads are lightweight and have less overhead compared to processes. They are generally more suitable for I/O-bound tasks or situations where parallelism is limited by factors other than CPU performance, such as network latency or disk I/O.\n",
    "\n",
    "4. Fault Isolation:\n",
    "   - Multiprocessing: Processes are isolated from each other. If one process crashes or encounters an error, it typically does not affect other processes.\n",
    "   - Multithreading: Threads within a process share the same memory space. If one thread encounters an error or crashes, it can potentially corrupt the shared memory and affect the stability of the entire process.\n",
    "\n",
    "5. Programming Complexity:\n",
    "   - Multiprocessing: Inter-process communication and synchronization mechanisms are required to coordinate work between processes. This can introduce complexity, as data sharing and communication need to be carefully managed.\n",
    "   - Multithreading: Threads within a process can communicate and share data more easily since they have direct access to shared memory. However, proper synchronization techniques, such as locks or semaphores, need to be employed to ensure thread safety and avoid race conditions.\n",
    "\n",
    "In summary, multiprocessing involves running multiple independent processes, each with its own memory space, while multithreading involves running multiple threads within a single process, sharing the same memory space. Multiprocessing is better suited for CPU-intensive tasks and offers better scalability, while multithreading is more suitable for I/O-bound tasks and simpler data sharing."
   ]
  },
  {
   "cell_type": "code",
   "execution_count": null,
   "id": "c07d95c7-6cfc-46ae-bdb9-eb5c47703b8c",
   "metadata": {},
   "outputs": [],
   "source": []
  },
  {
   "cell_type": "code",
   "execution_count": null,
   "id": "52eb795c-948a-481c-a6b5-1057c9feca59",
   "metadata": {},
   "outputs": [],
   "source": []
  },
  {
   "cell_type": "markdown",
   "id": "28b910bf-a9bb-4f6d-8106-c508c6f183ab",
   "metadata": {},
   "source": [
    "Q3. Write a python code to create a process using the multiprocessing module."
   ]
  },
  {
   "cell_type": "code",
   "execution_count": 1,
   "id": "f19dea27-6a1b-4bdf-b0cc-934b7f5fea1f",
   "metadata": {},
   "outputs": [
    {
     "name": "stdout",
     "output_type": "stream",
     "text": [
      "Worker process executing\n",
      "Process completed\n"
     ]
    }
   ],
   "source": [
    "import multiprocessing\n",
    "\n",
    "def worker():\n",
    "    \"\"\"Function to be executed by the process\"\"\"\n",
    "    print(\"Worker process executing\")\n",
    "\n",
    "if __name__ == '__main__':\n",
    "    # Create a process\n",
    "    process = multiprocessing.Process(target=worker)\n",
    "\n",
    "    # Start the process\n",
    "    process.start()\n",
    "\n",
    "    # Wait for the process to finish\n",
    "    process.join()\n",
    "\n",
    "    # Print a message after the process has finished\n",
    "    print(\"Process completed\")\n"
   ]
  },
  {
   "cell_type": "code",
   "execution_count": null,
   "id": "efa2a903-7d87-46ce-9b75-ae2dab4d1869",
   "metadata": {},
   "outputs": [],
   "source": []
  },
  {
   "cell_type": "code",
   "execution_count": null,
   "id": "fcfa8220-7c46-4ee8-9ad1-cd872d002a23",
   "metadata": {},
   "outputs": [],
   "source": []
  },
  {
   "cell_type": "markdown",
   "id": "4f668f3b-3661-4b30-8344-9af1805423b2",
   "metadata": {},
   "source": [
    "Q4. What is a multiprocessing pool in python? Why is it used?"
   ]
  },
  {
   "cell_type": "markdown",
   "id": "0deb9025-704c-439c-b646-6cb6d3a302fe",
   "metadata": {},
   "source": [
    "In Python, a multiprocessing pool is a mechanism provided by the `multiprocessing` module that allows you to parallelize the execution of tasks across multiple processes. It provides a convenient way to distribute the workload among multiple processors or CPU cores, making it possible to execute tasks concurrently and potentially speeding up the overall execution time.\n",
    "\n",
    "The multiprocessing pool is primarily used to perform parallel processing or parallel computing in Python. It's especially useful when you have a set of tasks that can be executed independently of each other and can benefit from being processed simultaneously. By utilizing a pool, you can divide the workload into smaller tasks and distribute them across multiple processes, taking advantage of the available computing resources.\n",
    "\n",
    "Here's a high-level overview of how a multiprocessing pool works:\n",
    "\n",
    "1. You create a pool of worker processes using the `multiprocessing.Pool` class.\n",
    "2. You define the tasks that need to be executed in parallel. These tasks are typically represented as a function or a method.\n",
    "3. You submit the tasks to the pool using one of the available methods, such as `apply()`, `map()`, or `imap()`. These methods distribute the tasks among the worker processes in the pool.\n",
    "4. The worker processes execute the tasks concurrently, utilizing the available CPU cores or processors.\n",
    "5. The results of the tasks are collected and returned to the main process.\n",
    "\n",
    "The multiprocessing pool abstracts away the complexity of managing multiple processes, handling inter-process communication, and load balancing. It simplifies the process of parallelizing tasks and provides a higher-level interface for working with multiple processes.\n",
    "\n",
    "By using a multiprocessing pool, you can achieve performance improvements in computationally intensive tasks or tasks that involve I/O-bound operations. It allows you to make efficient use of the available hardware resources and can significantly reduce the overall execution time of your program when parallelization is applicable."
   ]
  },
  {
   "cell_type": "code",
   "execution_count": null,
   "id": "79efb686-8134-4e22-bf5f-4d2d7e8dcfe0",
   "metadata": {},
   "outputs": [],
   "source": []
  },
  {
   "cell_type": "code",
   "execution_count": null,
   "id": "92ac3e90-84d8-49b0-bd02-84445036e11b",
   "metadata": {},
   "outputs": [],
   "source": []
  },
  {
   "cell_type": "markdown",
   "id": "01487903-78be-479d-9088-535ce18a24ef",
   "metadata": {},
   "source": [
    "Q5. How can we create a pool of worker processes in python using the multiprocessing module?"
   ]
  },
  {
   "cell_type": "markdown",
   "id": "5aa8059f-e0a8-48c6-ab6c-f0bf352a0432",
   "metadata": {},
   "source": [
    "To create a pool of worker processes in Python using the multiprocessing module, you can follow these steps:\n",
    "\n",
    "1.Import the necessary module:\n",
    "\n",
    "2.Define a function that represents the task to be executed by each worker process. This function should take the necessary inputs and perform the required operations. For example, let's assume we have a function called process_data that takes a data item as input and processes it:\n",
    "\n",
    "3.Determine the number of worker processes you want to create. This depends on your specific requirements and the available system resources. For instance, to create a pool of 4 worker processes, you can set the pool_size variable to 4.\n",
    "\n",
    "4.Create a Pool object using the multiprocessing.Pool() constructor, specifying the number of worker processes as an argument:\n",
    "\n",
    "\n",
    "5.Prepare the data that needs to be processed. This can be a list, an iterable, or any other suitable data structure. For example, let's assume we have a list called data_list:\n",
    "\n",
    "\n",
    "6.Use the map() method of the Pool object to distribute the tasks among the worker processes. This method takes two arguments: the function to be executed (process_data in this case) and the data to be processed (data_list in this case). It returns a result object that can be used to retrieve the processed data:\n",
    "\n",
    "    \n",
    "7.Optionally, you can use the close() method followed by the join() method to properly clean up the resources and wait for all the worker processes to finish their tasks:\n",
    "\n",
    "    \n",
    "8.Finally, you can access the processed data from the results object. It will contain the results of each processed data item in the order they were provided:\n",
    "\n",
    "That's how you can create a pool of worker processes in Python using the multiprocessing module. Remember to import the necessary modules and define your specific task function according to your requirements."
   ]
  },
  {
   "cell_type": "code",
   "execution_count": 3,
   "id": "b1b14ee2-9e73-4092-92de-71a8b478e5d3",
   "metadata": {},
   "outputs": [
    {
     "name": "stdout",
     "output_type": "stream",
     "text": [
      "start process 0\n",
      "start process 1\n",
      "start process 4\n",
      "start process 2\n",
      "start process 3\n",
      "\n",
      "\n",
      "\n",
      "\n",
      "\n",
      "end process 0\n",
      "end process 1\n",
      "\n",
      "end process 2\n",
      "end process 4\n",
      "end process 3\n",
      "\n",
      "[0, 1, 4, 9, 16]\n",
      "\n",
      "\n",
      "\n"
     ]
    }
   ],
   "source": [
    "## Example to create pool of workers:\n",
    "import time\n",
    "from multiprocessing import Pool\n",
    "\n",
    "\n",
    "def square(x):\n",
    "    print(f\"start process {x}\\n\")\n",
    "    square = x * x\n",
    "    time.sleep(1)\n",
    "    print(f\"end process {x}\\n\")\n",
    "    return square\n",
    "\n",
    "\n",
    "if __name__ == \"__main__\":\n",
    "    pool = Pool()\n",
    "    a = pool.map(square, range(0, 5))\n",
    "    print(a)"
   ]
  },
  {
   "cell_type": "code",
   "execution_count": null,
   "id": "a1c6bd78-5ec8-4a64-922f-4faeb527233b",
   "metadata": {},
   "outputs": [],
   "source": []
  },
  {
   "cell_type": "code",
   "execution_count": null,
   "id": "b7d53eba-f3d3-41cc-91a9-ce9ec17fd605",
   "metadata": {},
   "outputs": [],
   "source": []
  },
  {
   "cell_type": "markdown",
   "id": "632b7206-7c00-4850-9299-1de7d8a86e38",
   "metadata": {},
   "source": [
    "Q6. Write a python program to create 4 processes, each process should print a different number using the\n",
    "multiprocessing module in python."
   ]
  },
  {
   "cell_type": "code",
   "execution_count": 4,
   "id": "ebe1d489-e399-473b-ba6e-81565b3775a0",
   "metadata": {},
   "outputs": [
    {
     "name": "stdout",
     "output_type": "stream",
     "text": [
      "Process ID: 1871 - Number: 1\n",
      "Process ID: 1874 - Number: 2\n",
      "Process ID: 1881 - Number: 3\n",
      "Process ID: 1884 - Number: 4\n"
     ]
    }
   ],
   "source": [
    "import multiprocessing\n",
    "\n",
    "def print_number(number):\n",
    "    print(f\"Process ID: {multiprocessing.current_process().pid} - Number: {number}\")\n",
    "\n",
    "if __name__ == '__main__':\n",
    "    processes = []\n",
    "    numbers = [1, 2, 3, 4]\n",
    "\n",
    "    for number in numbers:\n",
    "        p = multiprocessing.Process(target=print_number, args=(number,))\n",
    "        processes.append(p)\n",
    "        p.start()\n",
    "\n",
    "    for p in processes:\n",
    "        p.join()\n"
   ]
  },
  {
   "cell_type": "code",
   "execution_count": null,
   "id": "e8a558b3-5e9a-4a3d-854c-77fcee5238c3",
   "metadata": {},
   "outputs": [],
   "source": []
  }
 ],
 "metadata": {
  "kernelspec": {
   "display_name": "Python 3 (ipykernel)",
   "language": "python",
   "name": "python3"
  },
  "language_info": {
   "codemirror_mode": {
    "name": "ipython",
    "version": 3
   },
   "file_extension": ".py",
   "mimetype": "text/x-python",
   "name": "python",
   "nbconvert_exporter": "python",
   "pygments_lexer": "ipython3",
   "version": "3.10.8"
  }
 },
 "nbformat": 4,
 "nbformat_minor": 5
}
